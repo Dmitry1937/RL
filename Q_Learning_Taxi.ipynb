{
  "nbformat": 4,
  "nbformat_minor": 0,
  "metadata": {
    "colab": {
      "name": "Q_Learning_Taxi.ipynb",
      "provenance": [],
      "authorship_tag": "ABX9TyOHObJoYvupDSd1ViSnpnnB",
      "include_colab_link": true
    },
    "kernelspec": {
      "name": "python3",
      "display_name": "Python 3"
    }
  },
  "cells": [
    {
      "cell_type": "markdown",
      "metadata": {
        "id": "view-in-github",
        "colab_type": "text"
      },
      "source": [
        "<a href=\"https://colab.research.google.com/github/Dmitry1937/RL/blob/main/Q_Learning_Taxi.ipynb\" target=\"_parent\"><img src=\"https://colab.research.google.com/assets/colab-badge.svg\" alt=\"Open In Colab\"/></a>"
      ]
    },
    {
      "cell_type": "code",
      "metadata": {
        "id": "ABFXY6ivfiF2"
      },
      "source": [
        "import numpy as np\n",
        "\n",
        "import gym\n",
        "\n",
        "import matplotlib.pyplot as plt\n",
        "%matplotlib inline"
      ],
      "execution_count": null,
      "outputs": []
    },
    {
      "cell_type": "code",
      "metadata": {
        "colab": {
          "base_uri": "https://localhost:8080/"
        },
        "id": "bYXUaQzbfjsB",
        "outputId": "c41f89d1-151c-412b-c1db-e3d79901378b"
      },
      "source": [
        "env = gym.make('Taxi-v3',)\n",
        "\n",
        "NUM_STATES = env.observation_space.n\n",
        "NUM_ACTIONS = env.action_space.n\n",
        "\n",
        "print('States: {}'.format(NUM_STATES))\n",
        "print('Actions: {}'.format(NUM_ACTIONS))"
      ],
      "execution_count": null,
      "outputs": [
        {
          "output_type": "stream",
          "text": [
            "States: 500\n",
            "Actions: 6\n"
          ],
          "name": "stdout"
        }
      ]
    },
    {
      "cell_type": "code",
      "metadata": {
        "id": "HQPlnTkQfpaY"
      },
      "source": [
        "lr = 1 # Так как задача давольна простая необходимости уменьшать LR нет.\n",
        "gamma = 1 # Данная задача уже на уровне игры имеет штраф за ход. Необходимость в gamma нет.\n",
        "\n",
        "NUM_EPISODES = 2000 # число эпизодов для обучения\n",
        "MAX_STEPS = 20 # Из описания понятно что 20 ходов это будет 100% достаточно"
      ],
      "execution_count": null,
      "outputs": []
    },
    {
      "cell_type": "code",
      "metadata": {
        "id": "eVkqjqkUfzyo"
      },
      "source": [
        "pathLenListMean = [] # среднии длины траекторий по 100 эпизодам\n",
        "totalRewardListMean = [] # среднии суммарные награды по 100 эпизодам\n",
        "\n",
        "# Инициализация Q-функции (таблицы)\n",
        "Q = np.zeros((NUM_STATES, NUM_ACTIONS)) #условия задачи допускают инициализацию 0-ми т.к. за каждое действия мы 100% получаем какую-либо награду"
      ],
      "execution_count": null,
      "outputs": []
    },
    {
      "cell_type": "code",
      "metadata": {
        "colab": {
          "base_uri": "https://localhost:8080/"
        },
        "id": "MN0lkOTEghO8",
        "outputId": "a9212c3a-8046-46c9-f50a-c951859946cb"
      },
      "source": [
        "pathLenList = [] # длины траекторий по эпизодам\n",
        "totalRewardList = [] # суммарные награды по эпизодам\n",
        "for i in range(NUM_EPISODES):\n",
        "    \n",
        "    s = env.reset()\n",
        "\n",
        "    totalReward = 0\n",
        "    step = 0\n",
        "\n",
        "    while step < MAX_STEPS:\n",
        "        step += 1\n",
        "            \n",
        "        # Выбор действия по текущей политике\n",
        "        a = np.argmax(Q[s,:])\n",
        "        \n",
        "        # Сделать шаг\n",
        "        s1, r, done, _ = env.step(a)\n",
        "        \n",
        "        # Новое (целевое) значение Q-функции\n",
        "        if done:\n",
        "            Q_target = r\n",
        "        else:\n",
        "            Q_target = r + gamma * np.max(Q[s1,:])\n",
        "            \n",
        "        # Обновление Q-функции\n",
        "        Q[s,a] = (1-lr) * Q[s,a] + lr * Q_target\n",
        "        \n",
        "        totalReward += r\n",
        "        s = s1\n",
        "        \n",
        "        # Если конец эпизода\n",
        "        if done:\n",
        "            break\n",
        "            \n",
        "    pathLenList.append(step)\n",
        "    totalRewardList.append(totalReward)\n",
        "    if i%100 == 0: \n",
        "      print('Episode {}: Total reward = {}'.format(i, totalReward))  \n",
        "      pathLenListMean.append(np.mean(pathLenList))\n",
        "      totalRewardListMean.append(np.mean(totalRewardList))\n",
        "      pathLenList = [] \n",
        "      totalRewardList = [] \n",
        "    elif i==1985:\n",
        "      print('--------')\n",
        "      print('Episode {}: Total reward = {}'.format(i, totalReward))   \n",
        "    elif i>1985:\n",
        "      print('Episode {}: Total reward = {}'.format(i, totalReward))   "
      ],
      "execution_count": null,
      "outputs": [
        {
          "output_type": "stream",
          "text": [
            "Episode 0: Total reward = -38\n",
            "Episode 100: Total reward = -74\n",
            "Episode 200: Total reward = -20\n",
            "Episode 300: Total reward = -56\n",
            "Episode 400: Total reward = -20\n",
            "Episode 500: Total reward = -20\n",
            "Episode 600: Total reward = -20\n",
            "Episode 700: Total reward = -20\n",
            "Episode 800: Total reward = -20\n",
            "Episode 900: Total reward = 11\n",
            "Episode 1000: Total reward = 10\n",
            "Episode 1100: Total reward = 7\n",
            "Episode 1200: Total reward = 1\n",
            "Episode 1300: Total reward = 13\n",
            "Episode 1400: Total reward = 4\n",
            "Episode 1500: Total reward = 12\n",
            "Episode 1600: Total reward = 6\n",
            "Episode 1700: Total reward = 7\n",
            "Episode 1800: Total reward = 5\n",
            "Episode 1900: Total reward = 10\n",
            "--------\n",
            "Episode 1985: Total reward = 13\n",
            "Episode 1986: Total reward = 10\n",
            "Episode 1987: Total reward = 7\n",
            "Episode 1988: Total reward = 7\n",
            "Episode 1989: Total reward = 8\n",
            "Episode 1990: Total reward = 9\n",
            "Episode 1991: Total reward = 5\n",
            "Episode 1992: Total reward = 3\n",
            "Episode 1993: Total reward = 8\n",
            "Episode 1994: Total reward = 4\n",
            "Episode 1995: Total reward = 6\n",
            "Episode 1996: Total reward = 6\n",
            "Episode 1997: Total reward = 8\n",
            "Episode 1998: Total reward = 12\n",
            "Episode 1999: Total reward = 5\n"
          ],
          "name": "stdout"
        }
      ]
    },
    {
      "cell_type": "code",
      "metadata": {
        "colab": {
          "base_uri": "https://localhost:8080/",
          "height": 265
        },
        "id": "zjPm9T0Gw69Y",
        "outputId": "16c2d05d-0776-4fe3-ce9f-58776e30ec4a"
      },
      "source": [
        "plt.plot(pathLenListMean,  )\n",
        "plt.xticks(range(0,20))\n",
        "plt.grid( )"
      ],
      "execution_count": null,
      "outputs": [
        {
          "output_type": "display_data",
          "data": {
            "image/png": "[encoded data removed]",
            "text/plain": [
              "<Figure size 432x288 with 1 Axes>"
            ]
          },
          "metadata": {
            "tags": [],
            "needs_background": "light"
          }
        }
      ]
    },
    {
      "cell_type": "code",
      "metadata": {
        "colab": {
          "base_uri": "https://localhost:8080/",
          "height": 266
        },
        "id": "NpcRhORsw7oc",
        "outputId": "cbf9c6a6-b486-4bdd-f8e6-e9890511d96c"
      },
      "source": [
        "plt.plot(totalRewardListMean)\n",
        "plt.xticks(range(0,20))\n",
        "plt.grid()"
      ],
      "execution_count": null,
      "outputs": [
        {
          "output_type": "display_data",
          "data": {
            "image/png": "[encoded data removed]",
            "text/plain": [
              "<Figure size 432x288 with 1 Axes>"
            ]
          },
          "metadata": {
            "tags": [],
            "needs_background": "light"
          }
        }
      ]
    },
    {
      "cell_type": "code",
      "metadata": {
        "colab": {
          "base_uri": "https://localhost:8080/",
          "height": 265
        },
        "id": "2h08eRyhw_5S",
        "outputId": "48bcf3fd-d820-44e7-dee4-37e3968dc45c"
      },
      "source": [
        "plt.plot(totalRewardListMean[10:])\n",
        "plt.xticks(range(0,10))\n",
        "plt.grid()"
      ],
      "execution_count": null,
      "outputs": [
        {
          "output_type": "display_data",
          "data": {
            "image/png": "[encoded data removed]",
            "text/plain": [
              "<Figure size 432x288 with 1 Axes>"
            ]
          },
          "metadata": {
            "tags": [],
            "needs_background": "light"
          }
        }
      ]
    },
    {
      "cell_type": "markdown",
      "metadata": {
        "id": "IE5_1avf6Km5"
      },
      "source": [
        "По графика видно что с 1100 итерации в среднем за 100 эпиздов мы начинаем получать уже положительные награды"
      ]
    },
    {
      "cell_type": "code",
      "metadata": {
        "colab": {
          "base_uri": "https://localhost:8080/"
        },
        "id": "eh-j51HU8HFl",
        "outputId": "4b8acae4-c560-4632-9474-060213ecf589"
      },
      "source": [
        "totalReward = 0\n",
        "s = env.reset()\n",
        "\n",
        "for _ in range(20):\n",
        "    env.render()\n",
        "    a = np.argmax(Q[s,:]) # выбираем оптимальное действие\n",
        "    s, r, done, _ = env.step(a)\n",
        "    totalReward += r\n",
        "    if done:\n",
        "        env.render()        \n",
        "        break\n",
        "\n",
        "env.close()\n",
        "print('Total reward = {}'.format(totalReward))"
      ],
      "execution_count": null,
      "outputs": [
        {
          "output_type": "stream",
          "text": [
            "+---------+\n",
            "|R:\u001b[43m \u001b[0m| : :\u001b[34;1mG\u001b[0m|\n",
            "| : | : : |\n",
            "| : : : : |\n",
            "| | : | : |\n",
            "|\u001b[35mY\u001b[0m| : |B: |\n",
            "+---------+\n",
            "\n",
            "+---------+\n",
            "|R: | : :\u001b[34;1mG\u001b[0m|\n",
            "| :\u001b[43m \u001b[0m| : : |\n",
            "| : : : : |\n",
            "| | : | : |\n",
            "|\u001b[35mY\u001b[0m| : |B: |\n",
            "+---------+\n",
            "  (South)\n",
            "+---------+\n",
            "|R: | : :\u001b[34;1mG\u001b[0m|\n",
            "| : | : : |\n",
            "| :\u001b[43m \u001b[0m: : : |\n",
            "| | : | : |\n",
            "|\u001b[35mY\u001b[0m| : |B: |\n",
            "+---------+\n",
            "  (South)\n",
            "+---------+\n",
            "|R: | : :\u001b[34;1mG\u001b[0m|\n",
            "| : | : : |\n",
            "| : :\u001b[43m \u001b[0m: : |\n",
            "| | : | : |\n",
            "|\u001b[35mY\u001b[0m| : |B: |\n",
            "+---------+\n",
            "  (East)\n",
            "+---------+\n",
            "|R: | : :\u001b[34;1mG\u001b[0m|\n",
            "| : | : : |\n",
            "| : : :\u001b[43m \u001b[0m: |\n",
            "| | : | : |\n",
            "|\u001b[35mY\u001b[0m| : |B: |\n",
            "+---------+\n",
            "  (East)\n",
            "+---------+\n",
            "|R: | : :\u001b[34;1mG\u001b[0m|\n",
            "| : | :\u001b[43m \u001b[0m: |\n",
            "| : : : : |\n",
            "| | : | : |\n",
            "|\u001b[35mY\u001b[0m| : |B: |\n",
            "+---------+\n",
            "  (North)\n",
            "+---------+\n",
            "|R: | :\u001b[43m \u001b[0m:\u001b[34;1mG\u001b[0m|\n",
            "| : | : : |\n",
            "| : : : : |\n",
            "| | : | : |\n",
            "|\u001b[35mY\u001b[0m| : |B: |\n",
            "+---------+\n",
            "  (North)\n",
            "+---------+\n",
            "|R: | : :\u001b[34;1m\u001b[43mG\u001b[0m\u001b[0m|\n",
            "| : | : : |\n",
            "| : : : : |\n",
            "| | : | : |\n",
            "|\u001b[35mY\u001b[0m| : |B: |\n",
            "+---------+\n",
            "  (East)\n",
            "+---------+\n",
            "|R: | : :\u001b[42mG\u001b[0m|\n",
            "| : | : : |\n",
            "| : : : : |\n",
            "| | : | : |\n",
            "|\u001b[35mY\u001b[0m| : |B: |\n",
            "+---------+\n",
            "  (Pickup)\n",
            "+---------+\n",
            "|R: | : :G|\n",
            "| : | : :\u001b[42m_\u001b[0m|\n",
            "| : : : : |\n",
            "| | : | : |\n",
            "|\u001b[35mY\u001b[0m| : |B: |\n",
            "+---------+\n",
            "  (South)\n",
            "+---------+\n",
            "|R: | : :G|\n",
            "| : | : : |\n",
            "| : : : :\u001b[42m_\u001b[0m|\n",
            "| | : | : |\n",
            "|\u001b[35mY\u001b[0m| : |B: |\n",
            "+---------+\n",
            "  (South)\n",
            "+---------+\n",
            "|R: | : :G|\n",
            "| : | : : |\n",
            "| : : :\u001b[42m_\u001b[0m: |\n",
            "| | : | : |\n",
            "|\u001b[35mY\u001b[0m| : |B: |\n",
            "+---------+\n",
            "  (West)\n",
            "+---------+\n",
            "|R: | : :G|\n",
            "| : | : : |\n",
            "| : :\u001b[42m_\u001b[0m: : |\n",
            "| | : | : |\n",
            "|\u001b[35mY\u001b[0m| : |B: |\n",
            "+---------+\n",
            "  (West)\n",
            "+---------+\n",
            "|R: | : :G|\n",
            "| : | : : |\n",
            "| :\u001b[42m_\u001b[0m: : : |\n",
            "| | : | : |\n",
            "|\u001b[35mY\u001b[0m| : |B: |\n",
            "+---------+\n",
            "  (West)\n",
            "+---------+\n",
            "|R: | : :G|\n",
            "| : | : : |\n",
            "|\u001b[42m_\u001b[0m: : : : |\n",
            "| | : | : |\n",
            "|\u001b[35mY\u001b[0m| : |B: |\n",
            "+---------+\n",
            "  (West)\n",
            "+---------+\n",
            "|R: | : :G|\n",
            "| : | : : |\n",
            "| : : : : |\n",
            "|\u001b[42m_\u001b[0m| : | : |\n",
            "|\u001b[35mY\u001b[0m| : |B: |\n",
            "+---------+\n",
            "  (South)\n",
            "+---------+\n",
            "|R: | : :G|\n",
            "| : | : : |\n",
            "| : : : : |\n",
            "| | : | : |\n",
            "|\u001b[35m\u001b[42mY\u001b[0m\u001b[0m| : |B: |\n",
            "+---------+\n",
            "  (South)\n",
            "+---------+\n",
            "|R: | : :G|\n",
            "| : | : : |\n",
            "| : : : : |\n",
            "| | : | : |\n",
            "|\u001b[35m\u001b[34;1m\u001b[43mY\u001b[0m\u001b[0m\u001b[0m| : |B: |\n",
            "+---------+\n",
            "  (Dropoff)\n",
            "Total reward = 4\n"
          ],
          "name": "stdout"
        }
      ]
    }
  ]
}